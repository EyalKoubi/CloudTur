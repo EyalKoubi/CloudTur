{
  "nbformat": 4,
  "nbformat_minor": 0,
  "metadata": {
    "colab": {
      "provenance": [],
      "authorship_tag": "ABX9TyOZTYzidKaUYyGXbuZ2XBgr",
      "include_colab_link": true
    },
    "kernelspec": {
      "name": "python3",
      "display_name": "Python 3"
    },
    "language_info": {
      "name": "python"
    }
  },
  "cells": [
    {
      "cell_type": "markdown",
      "metadata": {
        "id": "view-in-github",
        "colab_type": "text"
      },
      "source": [
        "<a href=\"https://colab.research.google.com/github/EyalKoubi/CloudTur/blob/main/Copy_of_Ata_Til_Bedvarim.ipynb\" target=\"_parent\"><img src=\"https://colab.research.google.com/assets/colab-badge.svg\" alt=\"Open In Colab\"/></a>"
      ]
    },
    {
      "cell_type": "code",
      "source": [],
      "metadata": {
        "id": "sndEnNxJHrSL"
      },
      "execution_count": null,
      "outputs": []
    },
    {
      "cell_type": "code",
      "source": [
        "from firebase import firebase\n",
        "FBconn = firebase.FirebaseApplication('https://new-proj-917e8-default-rtdb.firebaseio.com/',None)\n",
        "for i in range(6):\n",
        "  first_name = str (input (\"What is your first name?\"))\n",
        "  last_name = str (input (\"What is your last name?\"))\n",
        "  mail = str (input (\"What is your mail?\"))\n",
        "  proficient = str (input (\"What is your proficient?\"))\n",
        "  link = str (input (\"What is your link?\"))\n",
        "\n",
        "  data_to_upload = {\n",
        "      'first name': first_name,\n",
        "      'last name': last_name,\n",
        "      'mail': mail,\n",
        "      'proficient': proficient,\n",
        "      'link': link\n",
        "  }\n",
        "  result = FBconn.post('/myStudents/',data_to_upload)\n",
        "  print(result)\n",
        "\n",
        "result = FBconn.get('/myStudents', None)\n",
        "print(result)\n",
        "\n"
      ],
      "metadata": {
        "colab": {
          "base_uri": "https://localhost:8080/"
        },
        "id": "KbrYxlLY_VQl",
        "outputId": "e04de1bf-96c2-4e7c-f35a-51a90de53a38"
      },
      "execution_count": null,
      "outputs": [
        {
          "output_type": "stream",
          "name": "stdout",
          "text": [
            "What is your first name?Dolev\n",
            "What is your last name?Seri\n",
            "What is your mail?Dolev.Seri@e.braude.ac.il\n",
            "What is your proficient?probability\n",
            "What is your link?https://www.walla.co.il\n",
            "{'name': '-NTO69gjQWEU8HAm3Cpf'}\n",
            "What is your first name?Nofar\n",
            "What is your last name?Ben-Simon\n",
            "What is your mail?nofar@e.braude.ac.il\n",
            "What is your proficient?cloud\n",
            "What is your link?https://www.walla.co.il\n",
            "{'name': '-NTO6Mfjd8X4nWNdDiX-'}\n",
            "What is your first name?Debbi\n",
            "What is your last name?Dubinker\n",
            "What is your mail?debbi@e.braue.ac.il\n",
            "What is your proficient?probability\n",
            "What is your link?https://github.com\n",
            "{'name': '-NTO6c4Q_1YD3BK6Qmg3'}\n",
            "What is your first name?Eyal\n",
            "What is your last name?Koubi\n",
            "What is your mail?eyal.koubi@e.braue.ac.il\n",
            "What is your proficient?Mechanicks\n",
            "What is your link?https://www.youtube.com\n",
            "{'name': '-NTO6tYh1cu-ghdzdAS6'}\n",
            "What is your first name?Noy\n",
            "What is your last name?Biton\n",
            "What is your mail?noy.biton@e.braue.ac.il\n",
            "What is your proficient?Aguda\n",
            "What is your link?https://www.google.com\n",
            "{'name': '-NTO74eZmSLJ_vZVOHPq'}\n",
            "What is your first name?Ilanit\n",
            "What is your last name?Hanooko\n",
            "What is your mail?ilanit.hanooko@e.braue.ac.il\n",
            "What is your proficient?Aguda\n",
            "What is your link?https://www.walla.com\n",
            "{'name': '-NTO7N-b6whrFVKZ2HFm'}\n",
            "{'-NTO69gjQWEU8HAm3Cpf': {'first name': 'Dolev', 'last name': 'Seri', 'link': 'https://www.walla.co.il', 'mail': 'Dolev.Seri@e.braude.ac.il', 'proficient': 'probability'}, '-NTO6Mfjd8X4nWNdDiX-': {'first name': 'Nofar', 'last name': 'Ben-Simon', 'link': 'https://www.walla.co.il', 'mail': 'nofar@e.braude.ac.il', 'proficient': 'cloud'}, '-NTO6c4Q_1YD3BK6Qmg3': {'first name': 'Debbi', 'last name': 'Dubinker', 'link': 'https://github.com', 'mail': 'debbi@e.braue.ac.il', 'proficient': 'probability'}, '-NTO6tYh1cu-ghdzdAS6': {'first name': 'Eyal', 'last name': 'Koubi', 'link': 'https://www.youtube.com', 'mail': 'eyal.koubi@e.braue.ac.il', 'proficient': 'Mechanicks'}, '-NTO74eZmSLJ_vZVOHPq': {'first name': 'Noy', 'last name': 'Biton', 'link': 'https://www.google.com', 'mail': 'noy.biton@e.braue.ac.il', 'proficient': 'Aguda'}, '-NTO7N-b6whrFVKZ2HFm': {'first name': 'Ilanit', 'last name': 'Hanooko', 'link': 'https://www.walla.com', 'mail': 'ilanit.hanooko@e.braue.ac.il', 'proficient': 'Aguda'}}\n"
          ]
        }
      ]
    },
    {
      "cell_type": "code",
      "execution_count": null,
      "metadata": {
        "colab": {
          "base_uri": "https://localhost:8080/"
        },
        "id": "M2rbOjPa-3hA",
        "outputId": "6c27cd74-4cae-4494-af62-24a8bdbc2db9"
      },
      "outputs": [
        {
          "output_type": "stream",
          "name": "stdout",
          "text": [
            "Looking in indexes: https://pypi.org/simple, https://us-python.pkg.dev/colab-wheels/public/simple/\n",
            "Requirement already satisfied: firebase in /usr/local/lib/python3.9/dist-packages (4.0.1)\n",
            "Requirement already satisfied: requests in /usr/local/lib/python3.9/dist-packages (from firebase) (2.27.1)\n",
            "Requirement already satisfied: certifi>=2017.4.17 in /usr/local/lib/python3.9/dist-packages (from requests->firebase) (2022.12.7)\n",
            "Requirement already satisfied: urllib3<1.27,>=1.21.1 in /usr/local/lib/python3.9/dist-packages (from requests->firebase) (1.26.15)\n",
            "Requirement already satisfied: idna<4,>=2.5 in /usr/local/lib/python3.9/dist-packages (from requests->firebase) (3.4)\n",
            "Requirement already satisfied: charset-normalizer~=2.0.0 in /usr/local/lib/python3.9/dist-packages (from requests->firebase) (2.0.12)\n"
          ]
        }
      ],
      "source": [
        "!pip install firebase"
      ]
    }
  ]
}